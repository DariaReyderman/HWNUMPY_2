{
 "cells": [
  {
   "cell_type": "code",
   "execution_count": 5,
   "id": "0a3f35a2-f006-4785-806c-df6a24fc4a83",
   "metadata": {},
   "outputs": [],
   "source": [
    "import numpy as np"
   ]
  },
  {
   "cell_type": "code",
   "execution_count": 21,
   "id": "ad4f0f64-abe5-4f1f-bbf4-b34d20c00a6e",
   "metadata": {},
   "outputs": [
    {
     "name": "stdout",
     "output_type": "stream",
     "text": [
      "[[ 1  2  3  4]\n",
      " [ 5  6  7  8]\n",
      " [ 9 10 11 12]\n",
      " [13 14 15 16]]\n"
     ]
    }
   ],
   "source": [
    "# 1\n",
    "np1 = np.arange(1, 16 + 1)\n",
    "print(np1.reshape(4, 4))"
   ]
  },
  {
   "cell_type": "code",
   "execution_count": 23,
   "id": "0d7a550b-913e-4d8e-9553-6ea2d5b76a10",
   "metadata": {},
   "outputs": [
    {
     "name": "stdout",
     "output_type": "stream",
     "text": [
      "[[10 15 20 25]\n",
      " [30 35 40 45]]\n"
     ]
    }
   ],
   "source": [
    "# 2\n",
    "np2 = np.arange(10, 50, 5)\n",
    "print(np2.reshape(2, 4))"
   ]
  },
  {
   "cell_type": "code",
   "execution_count": 25,
   "id": "796cef20-6acb-41c1-b909-2699dde78da9",
   "metadata": {},
   "outputs": [
    {
     "name": "stdout",
     "output_type": "stream",
     "text": [
      "[[44 16 63]\n",
      " [84  8 78]\n",
      " [22 32 94]]\n",
      "min 8\n",
      "max 94\n"
     ]
    }
   ],
   "source": [
    "# 3\n",
    "np3 = np.random.randint(1, 100, (3, 3))\n",
    "print(np3)\n",
    "print('min', np3.min())\n",
    "print('max', np3.max())"
   ]
  },
  {
   "cell_type": "code",
   "execution_count": 31,
   "id": "7eb480cb-4c37-44a0-94d4-fea271bfa4ff",
   "metadata": {},
   "outputs": [
    {
     "name": "stdout",
     "output_type": "stream",
     "text": [
      "[16 14  1  6  2  9  4 18  0 14]\n",
      "1 [16 14  1  6  2]\n",
      "2 [16  1  2  4  0]\n",
      "3 [14  0 18  4  9  2  6  1 14 16]\n"
     ]
    }
   ],
   "source": [
    "# 4\n",
    "np4 = np.random.randint(0, 20, 10)\n",
    "print(np4)\n",
    "print('1', np4[:5])\n",
    "print('2', np4[::2])\n",
    "print('3', np4[::-1])"
   ]
  },
  {
   "cell_type": "code",
   "execution_count": 37,
   "id": "bec6336c-537b-46ee-b14d-793c24cf8e92",
   "metadata": {},
   "outputs": [
    {
     "name": "stdout",
     "output_type": "stream",
     "text": [
      "[[22 45 45 18 37]\n",
      " [ 9 16 48 39 11]\n",
      " [40  8 49 15 33]\n",
      " [19 16 15 32  2]] \n",
      "\n",
      "33\n"
     ]
    }
   ],
   "source": [
    "# 5\n",
    "np5 = np.random.randint(0, 50, (4, 5))\n",
    "print(np5, '\\n')\n",
    "print(np5[2][4])"
   ]
  },
  {
   "cell_type": "code",
   "execution_count": 23,
   "id": "17883570-5ccf-4595-849b-6bfa33db20e0",
   "metadata": {},
   "outputs": [
    {
     "name": "stdout",
     "output_type": "stream",
     "text": [
      "[96 13 83 60 13 69 69 19 89 76 22 90 18 66  3] \n",
      "\n",
      "max 0\n",
      "min 14\n",
      "numbers % 5 == 0 [60 90]\n",
      "numbers > 50 or numbers < 10 [96 83 60 69 69 89 76 90 66  3]\n"
     ]
    }
   ],
   "source": [
    "# 6\n",
    "np6 = np.random.randint(0, 100, 15)\n",
    "print(np6, '\\n')\n",
    "print('max', np6.argmax())\n",
    "print('min', np6.argmin())\n",
    "\n",
    "# 6 continue\n",
    "np.save('fifteen.npy', np6)\n",
    "\n",
    "np6 = np.load('fifteen.npy')\n",
    "\n",
    "print('numbers % 5 == 0', np6[(np6 % 5 == 0)])\n",
    "print('numbers > 50 or numbers < 10', np6[(np6 > 50) | (np6 < 10)])"
   ]
  }
 ],
 "metadata": {
  "kernelspec": {
   "display_name": "Python 3 (ipykernel)",
   "language": "python",
   "name": "python3"
  },
  "language_info": {
   "codemirror_mode": {
    "name": "ipython",
    "version": 3
   },
   "file_extension": ".py",
   "mimetype": "text/x-python",
   "name": "python",
   "nbconvert_exporter": "python",
   "pygments_lexer": "ipython3",
   "version": "3.12.4"
  }
 },
 "nbformat": 4,
 "nbformat_minor": 5
}
